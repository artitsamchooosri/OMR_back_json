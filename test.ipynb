{
 "cells": [
  {
   "cell_type": "code",
   "execution_count": 1,
   "metadata": {},
   "outputs": [],
   "source": [
    "import numpy as np\n",
    "import cv2\n",
    "from PIL import Image,ImageEnhance\n",
    "from imutils.perspective import four_point_transform\n",
    "import cv2\n",
    "import os"
   ]
  },
  {
   "cell_type": "code",
   "execution_count": 7,
   "metadata": {},
   "outputs": [],
   "source": [
    "def auto_canny(image, sigma=0.33):\n",
    "\t# compute the median of the single channel pixel intensities\n",
    "\tv = np.median(image)\n",
    "\t# apply automatic Canny edge detection using the computed median\n",
    "\tlower = int(max(0, (1.0 - sigma) * v))\n",
    "\tupper = int(min(255, (1.0 + sigma) * v))\n",
    "\tedged = cv2.Canny(image, lower, upper)\n",
    "\t# return the edged image\n",
    "\treturn edged\n",
    "def top_view(pathImage):\n",
    "\timg_ori=Image.open(pathImage)\n",
    "\tcontrast_enhancer = ImageEnhance.Contrast(img_ori)\n",
    "\tpil_enhanced_image = contrast_enhancer.enhance(2)\n",
    "\tenhanced_image = np.asarray(pil_enhanced_image)\n",
    "\tkernel = np.ones((5,5),np.uint8)\n",
    "\t\n",
    "\tenhanced_image = cv2.morphologyEx(enhanced_image, cv2.MORPH_CLOSE, kernel, iterations= 3)\n",
    "\timgGray = cv2.cvtColor(enhanced_image, cv2.COLOR_BGR2GRAY)\n",
    "\timgBlur = cv2.GaussianBlur(imgGray, (5, 5), 1)\n",
    "\timgThreshold = auto_canny(imgBlur)\n",
    "\t#img = Image.fromarray(np.uint8(imgThreshold))\n",
    "\t#img.show()\n",
    "\tkernel = np.ones((5, 5))\n",
    "\timgDial = cv2.dilate(imgThreshold, kernel, iterations=2)\n",
    "\timgThreshold = cv2.erode(imgDial, kernel, iterations=1)\n",
    "\timg2 = Image.fromarray(np.uint8(imgThreshold))\n",
    "\timg2.show()\n",
    "\tcontours, _ = cv2.findContours(imgThreshold, cv2.RETR_LIST, cv2.CHAIN_APPROX_NONE)\n",
    "\tcontours = sorted(contours, key=cv2.contourArea, reverse=True)\n",
    "\n",
    "\tfor contour in contours:\n",
    "\t\tperi = cv2.arcLength(contour, True)\n",
    "\t\tapprox = cv2.approxPolyDP(contour, 0.05 * peri, True)\n",
    "\t\tif len(approx) == 4:\n",
    "\t\t\tdoc_cnts = approx\n",
    "\t\t\tbreak\n",
    "\timage_oricoppy=np.asarray(Image.open(pathImage)).copy()\n",
    "\twarped = four_point_transform(image_oricoppy, doc_cnts.reshape(4, 2))\n",
    "\timg_return = Image.fromarray(np.uint8(warped))\n",
    "\timg_return = img_return.resize(size=(640, 640))\n",
    "\timg3 = Image.fromarray(np.uint8(warped))\n",
    "\timg3.show()\n",
    "\treturn img_return\n",
    "\t"
   ]
  },
  {
   "cell_type": "code",
   "execution_count": 8,
   "metadata": {},
   "outputs": [],
   "source": [
    "pathImage = r\"omr\\280240913_622167026113954_5814739808036765654_n.jpg\"\n",
    "warped=top_view(pathImage)\n",
    "warped.save('280240913_622167026113954_5814739808036765654_n.jpeg')"
   ]
  }
 ],
 "metadata": {
  "kernelspec": {
   "display_name": "Python 3.9.12 ('env': venv)",
   "language": "python",
   "name": "python3"
  },
  "language_info": {
   "codemirror_mode": {
    "name": "ipython",
    "version": 3
   },
   "file_extension": ".py",
   "mimetype": "text/x-python",
   "name": "python",
   "nbconvert_exporter": "python",
   "pygments_lexer": "ipython3",
   "version": "3.9.12"
  },
  "orig_nbformat": 4,
  "vscode": {
   "interpreter": {
    "hash": "bcedb4b4cadbd0b1bbf915907504dd6dba900e7da3ff72656497fa0313c0029c"
   }
  }
 },
 "nbformat": 4,
 "nbformat_minor": 2
}
